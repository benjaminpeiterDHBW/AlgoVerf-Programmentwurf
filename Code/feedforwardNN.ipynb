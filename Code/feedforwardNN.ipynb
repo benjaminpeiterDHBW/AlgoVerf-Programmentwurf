{
 "cells": [
  {
   "cell_type": "markdown",
   "id": "ab1ad0fc",
   "metadata": {},
   "source": [
    "# Feedforward Neural Network\n"
   ]
  },
  {
   "cell_type": "markdown",
   "id": "60012726",
   "metadata": {},
   "source": [
    "## Theoretische Grundlagen:\n",
    "\n",
    "### 1. Eingabeschicht\n",
    "- Eingabeschicht: Empfängt die Eingangsdaten\n",
    "- Versteckte Schichten: Verarbeiten die Eingabe durch gewichtete Verbindungen und Aktivierungsfunktionen\n",
    "- Ausgabeschicht: Gibt das Ergebnis der Verarbeitung aus\n",
    "\n",
    "### Gewichte und Biases:\n",
    "- Jede Verbindung zwischen Neuronen hat ein Gewicht, das die Stärke der Verbindung bestimmt\n",
    "- Zusätzlich kann jedem Neuron ein Bias (Schwellenwert) hinzugefügt werden, um die Flexibilität des Modells zu erhöhen\n",
    "\n",
    "### Aktivierungsfunktionen:\n",
    "- Bestimmt, ob ein Neuron aktiviert wird\n",
    "- Beispiel: Sigmoid-Funktion, Hyperbolische Tangens, Rectified Linear Unit\n",
    "\n",
    "### Vorwärtsausbeiretung (Forward Propagation):\n",
    "- Eingabedaten werden durch die Schichten des Netzwerks geleitet, wobei in jeder Schicht die Eingaben mit den Gewichten multipliziert, der Bias addiert und die Aktivierungsfunktion angewendet wird.\n",
    "\n",
    "### Rückwärtsausbreitung (Backpropagation):\n",
    "- Ein Verfahren zum Anpassen der Gewichte basierend auf dem Fehler zwischen vorhergesagtem und tatsächlichen Output\n",
    "- Verwendet den Gradientenabstieg, um die Gewichte so zu aktualisieren,, dass der Fehler minimiert wird\n"
   ]
  },
  {
   "cell_type": "markdown",
   "id": "5c57e171",
   "metadata": {},
   "source": [
    "## Implementierung eines einfachen Feedforward-Netzwerks mit Numpy"
   ]
  },
  {
   "cell_type": "code",
   "execution_count": null,
   "id": "5b352929",
   "metadata": {},
   "outputs": [],
   "source": [
    "import numpy as np\n"
   ]
  }
 ],
 "metadata": {
  "kernelspec": {
   "display_name": "Python 3",
   "language": "python",
   "name": "python3"
  },
  "language_info": {
   "name": "python",
   "version": "3.13.2"
  }
 },
 "nbformat": 4,
 "nbformat_minor": 5
}
