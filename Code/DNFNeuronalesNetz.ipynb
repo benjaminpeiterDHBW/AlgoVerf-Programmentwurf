{
 "cells": [
  {
   "cell_type": "markdown",
   "id": "2c526b38",
   "metadata": {},
   "source": [
    "# Neuronales Netz zur Realisierung einer DNF"
   ]
  },
  {
   "cell_type": "markdown",
   "id": "64b58088",
   "metadata": {},
   "source": [
    "## 1.Zuerst wird die DNF erstellt"
   ]
  },
  {
   "cell_type": "code",
   "execution_count": 1,
   "id": "dae02f85",
   "metadata": {},
   "outputs": [],
   "source": [
    "import numpy as np\n",
    "\n",
    "n = 10 #Anzahl der Eingabevariablen\n",
    "m = 5 #Anzahl der Monome\n",
    "\n",
    "\n",
    "#Definition der Monome als Liste von Literalen\n",
    "# 1 für wahr, -1 für falsch, 0 für nicht verwendet\n",
    "dnf = np.array([\n",
    "    [ 1, -1,  1,  0,  0,  0,  0,  0,  0,  0],  # Monom 1: x1 ∧ ¬x2 ∧ x3\n",
    "    [-1,  1,  0,  1,  0,  0,  0,  0,  0,  0],  # Monom 2: ¬x1 ∧ x2 ∧ x4\n",
    "    [ 1,  0,  0, -1,  1,  0,  0,  0,  0,  0],  # Monom 3: x1 ∧ ¬x4 ∧ x5\n",
    "    [ 0, -1,  1,  0,  1,  0,  0,  0,  0,  0],  # Monom 4: ¬x2 ∧ x3 ∧ x5\n",
    "    [-1,  0,  0,  1, -1,  1,  0,  0,  0,  0],  # Monom 5: ¬x1 ∧ x4 ∧ ¬x5 ∧ x6\n",
    "])"
   ]
  },
  {
   "cell_type": "markdown",
   "id": "13ffa775",
   "metadata": {},
   "source": [
    "## 2. Gewichtsmatrix und Schwellenwerte berechnen"
   ]
  },
  {
   "cell_type": "code",
   "execution_count": 2,
   "id": "0589788e",
   "metadata": {},
   "outputs": [],
   "source": [
    "def calculate_weights_and_thresholds(dnf_matrix):\n",
    "    w = dnf_matrix.copy() #Gewichte für erste Schicht\n",
    "    v = np.sum(np.abs(w), axis=1) #Schwellenwerte für jede Zeile\n",
    "    W = np.ones((1, m))\n",
    "    V = m -1\n",
    "    return w, v, W, V"
   ]
  },
  {
   "cell_type": "markdown",
   "id": "45b3162f",
   "metadata": {},
   "source": [
    "## 3.Vorzeichenfunktion definieren"
   ]
  },
  {
   "cell_type": "code",
   "execution_count": 3,
   "id": "599a7749",
   "metadata": {},
   "outputs": [],
   "source": [
    "def sgn(x):\n",
    "    return np.where(x >= 0, 1, -1)"
   ]
  },
  {
   "cell_type": "markdown",
   "id": "d6979930",
   "metadata": {},
   "source": [
    "## 4.Vorwärtspropagation"
   ]
  },
  {
   "cell_type": "code",
   "execution_count": 4,
   "id": "0197d71b",
   "metadata": {},
   "outputs": [],
   "source": [
    "def forward(x, w, v, W, V):\n",
    "    z = sgn(np.dot(w, x) - v)\n",
    "    y = sgn(np.dot(W, z) - V)\n",
    "    return y, z"
   ]
  },
  {
   "cell_type": "code",
   "execution_count": 5,
   "id": "0a3c245d",
   "metadata": {},
   "outputs": [],
   "source": [
    "def train_step(x, p, w, v, W, V, eta):\n",
    "    y, z = forward(x, w, v, W, V)\n",
    "    error = p - y\n",
    "\n",
    "    # ∆W1j = η · (p−y) · zj\n",
    "    delta_W = eta * error * z\n",
    "    # ∆V = −η · (p−y)\n",
    "    delta_V = -eta * error\n",
    "\n",
    "    # ∆wjk = η ·W1j(p−y) · xk\n",
    "    delta_w = eta * error * W.T @ x.reshape(1, -1)\n",
    "    # ∆vj = −η · (p−y) ·W1j\n",
    "    delta_v = -eta * error * W.flatten()\n",
    "\n",
    "    # Update\n",
    "    w_new = w + delta_w\n",
    "    v_new = v + delta_v\n",
    "    W_new = W + delta_W.reshape(1, -1)\n",
    "    V_new = V + delta_V\n",
    "\n",
    "    return w_new, v_new, W_new, V_new, y, error"
   ]
  },
  {
   "cell_type": "markdown",
   "id": "a9d653a6",
   "metadata": {},
   "source": [
    "## 5. Tests mit Beispiel"
   ]
  },
  {
   "cell_type": "code",
   "execution_count": 6,
   "id": "9bc2893b",
   "metadata": {},
   "outputs": [
    {
     "name": "stdout",
     "output_type": "stream",
     "text": [
      "Input x:            [ 1 -1  1 -1  1 -1 -1  1  1  1]\n",
      "Erwarteter Output p: -1\n",
      "Netzoutput y:        [-1]\n",
      "Fehler (p - y):      [0]\n",
      "\n",
      "Haben sich die Gewichte geändert?\n",
      "w verändert?: False\n",
      "v verändert?: False\n",
      "W verändert?: False\n",
      "V verändert?: [False]\n"
     ]
    }
   ],
   "source": [
    "# Beispielinput, der falsch sein soll (DNF = -1)\n",
    "x = np.array([1, -1, 1, -1, 1, -1, -1, 1, 1, 1])\n",
    "p = -1  # erwartete Zielausgabe für x\n",
    "\n",
    "# Gewichte direkt aus DNF bestimmen\n",
    "w, v, W, V = calculate_weights_and_thresholds(dnf)\n",
    "\n",
    "# Lernrate\n",
    "eta = 0.1\n",
    "\n",
    "# Gewichte und Schwellen vor dem Training speichern\n",
    "w_old, v_old, W_old, V_old = w.copy(), v.copy(), W.copy(), V\n",
    "\n",
    "# Trainingsschritt\n",
    "w_new, v_new, W_new, V_new, y_pred, error = train_step(x, p, w, v, W, V, eta)\n",
    "\n",
    "# ==========================\n",
    "# 7. Ausgabe\n",
    "# ==========================\n",
    "print(\"Input x:           \", x)\n",
    "print(\"Erwarteter Output p:\", p)\n",
    "print(\"Netzoutput y:       \", y_pred)\n",
    "print(\"Fehler (p - y):     \", error)\n",
    "\n",
    "# Vergleich der Gewichte\n",
    "print(\"\\nHaben sich die Gewichte geändert?\")\n",
    "print(\"w verändert?:\", not np.allclose(w_old, w_new))\n",
    "print(\"v verändert?:\", not np.allclose(v_old, v_new))\n",
    "print(\"W verändert?:\", not np.allclose(W_old, W_new))\n",
    "print(\"V verändert?:\", V_old != V_new)"
   ]
  },
  {
   "cell_type": "code",
   "execution_count": null,
   "id": "cd6243a3",
   "metadata": {},
   "outputs": [
    {
     "name": "stdout",
     "output_type": "stream",
     "text": [
      "\n",
      "==== Mini-DNF Test ====\n"
     ]
    },
    {
     "ename": "ValueError",
     "evalue": "shapes (1,5) and (2,) not aligned: 5 (dim 1) != 2 (dim 0)",
     "output_type": "error",
     "traceback": [
      "\u001b[31m---------------------------------------------------------------------------\u001b[39m",
      "\u001b[31mValueError\u001b[39m                                Traceback (most recent call last)",
      "\u001b[36mCell\u001b[39m\u001b[36m \u001b[39m\u001b[32mIn[7]\u001b[39m\u001b[32m, line 23\u001b[39m\n\u001b[32m     20\u001b[39m w_old, v_old, W_old, V_old = w_s.copy(), v_s.copy(), W_s.copy(), V_s\n\u001b[32m     22\u001b[39m \u001b[38;5;66;03m# Backpropagation ausführen\u001b[39;00m\n\u001b[32m---> \u001b[39m\u001b[32m23\u001b[39m w_s, v_s, W_s, V_s, y_pred, error = \u001b[43mtrain_step\u001b[49m\u001b[43m(\u001b[49m\u001b[43mx_small\u001b[49m\u001b[43m,\u001b[49m\u001b[43m \u001b[49m\u001b[43mp_small\u001b[49m\u001b[43m,\u001b[49m\u001b[43m \u001b[49m\u001b[43mw_s\u001b[49m\u001b[43m,\u001b[49m\u001b[43m \u001b[49m\u001b[43mv_s\u001b[49m\u001b[43m,\u001b[49m\u001b[43m \u001b[49m\u001b[43mW_s\u001b[49m\u001b[43m,\u001b[49m\u001b[43m \u001b[49m\u001b[43mV_s\u001b[49m\u001b[43m,\u001b[49m\u001b[43m \u001b[49m\u001b[43meta_small\u001b[49m\u001b[43m)\u001b[49m\n\u001b[32m     25\u001b[39m \u001b[38;5;66;03m# Ausgabe\u001b[39;00m\n\u001b[32m     26\u001b[39m \u001b[38;5;28mprint\u001b[39m(\u001b[33m\"\u001b[39m\u001b[33mInput x:           \u001b[39m\u001b[33m\"\u001b[39m, x_small)\n",
      "\u001b[36mCell\u001b[39m\u001b[36m \u001b[39m\u001b[32mIn[5]\u001b[39m\u001b[32m, line 2\u001b[39m, in \u001b[36mtrain_step\u001b[39m\u001b[34m(x, p, w, v, W, V, eta)\u001b[39m\n\u001b[32m      1\u001b[39m \u001b[38;5;28;01mdef\u001b[39;00m\u001b[38;5;250m \u001b[39m\u001b[34mtrain_step\u001b[39m(x, p, w, v, W, V, eta):\n\u001b[32m----> \u001b[39m\u001b[32m2\u001b[39m     y, z = \u001b[43mforward\u001b[49m\u001b[43m(\u001b[49m\u001b[43mx\u001b[49m\u001b[43m,\u001b[49m\u001b[43m \u001b[49m\u001b[43mw\u001b[49m\u001b[43m,\u001b[49m\u001b[43m \u001b[49m\u001b[43mv\u001b[49m\u001b[43m,\u001b[49m\u001b[43m \u001b[49m\u001b[43mW\u001b[49m\u001b[43m,\u001b[49m\u001b[43m \u001b[49m\u001b[43mV\u001b[49m\u001b[43m)\u001b[49m\n\u001b[32m      3\u001b[39m     error = p - y\n\u001b[32m      5\u001b[39m     \u001b[38;5;66;03m# ∆W1j = η · (p−y) · zj\u001b[39;00m\n",
      "\u001b[36mCell\u001b[39m\u001b[36m \u001b[39m\u001b[32mIn[4]\u001b[39m\u001b[32m, line 3\u001b[39m, in \u001b[36mforward\u001b[39m\u001b[34m(x, w, v, W, V)\u001b[39m\n\u001b[32m      1\u001b[39m \u001b[38;5;28;01mdef\u001b[39;00m\u001b[38;5;250m \u001b[39m\u001b[34mforward\u001b[39m(x, w, v, W, V):\n\u001b[32m      2\u001b[39m     z = sgn(np.dot(w, x) - v)\n\u001b[32m----> \u001b[39m\u001b[32m3\u001b[39m     y = sgn(\u001b[43mnp\u001b[49m\u001b[43m.\u001b[49m\u001b[43mdot\u001b[49m\u001b[43m(\u001b[49m\u001b[43mW\u001b[49m\u001b[43m,\u001b[49m\u001b[43m \u001b[49m\u001b[43mz\u001b[49m\u001b[43m)\u001b[49m - V)\n\u001b[32m      4\u001b[39m     \u001b[38;5;28;01mreturn\u001b[39;00m y, z\n",
      "\u001b[31mValueError\u001b[39m: shapes (1,5) and (2,) not aligned: 5 (dim 1) != 2 (dim 0)"
     ]
    }
   ],
   "source": [
    "\n",
    "print(\"\\n==== Mini-DNF Test ====\")\n",
    "\n",
    "# Mini-DNF mit 2 Monomen, 3 Variablen\n",
    "dnf_small = np.array([\n",
    "    [ 1, -1,  0, -1],  # x1 ∧ ¬x2\n",
    "    [-1,  0,  1, 1],  # ¬x1 ∧ x3\n",
    "])\n",
    "\n",
    "# Eingabe: x1 = True, x2 = False, x3 = True\n",
    "x_small = np.array([1, -1, 1, 1])\n",
    "p_small = 1  # erwartete Ausgabe\n",
    "\n",
    "# Lernrate\n",
    "eta_small = 0.1\n",
    "\n",
    "# Netz aus Mini-DNF erzeugen\n",
    "w_s, v_s, W_s, V_s = calculate_weights_and_thresholds(dnf_small)\n",
    "\n",
    "# Alte Gewichte speichern\n",
    "w_old, v_old, W_old, V_old = w_s.copy(), v_s.copy(), W_s.copy(), V_s\n",
    "\n",
    "# Backpropagation ausführen\n",
    "w_s, v_s, W_s, V_s, y_pred, error = train_step(x_small, p_small, w_s, v_s, W_s, V_s, eta_small)\n",
    "\n",
    "# Ausgabe\n",
    "print(\"Input x:           \", x_small)\n",
    "print(\"Erwartet (p):      \", p_small)\n",
    "print(\"Netzoutput y:      \", y_pred)\n",
    "print(\"Fehler (p - y):    \", error)\n",
    "print(\"w verändert?:\", not np.allclose(w_old, w_s))\n",
    "print(\"v verändert?:\", not np.allclose(v_old, v_s))\n",
    "print(\"W verändert?:\", not np.allclose(W_old, W_s))\n",
    "print(\"V verändert?:\", V_old != V_s)\n"
   ]
  }
 ],
 "metadata": {
  "kernelspec": {
   "display_name": "Python 3",
   "language": "python",
   "name": "python3"
  },
  "language_info": {
   "codemirror_mode": {
    "name": "ipython",
    "version": 3
   },
   "file_extension": ".py",
   "mimetype": "text/x-python",
   "name": "python",
   "nbconvert_exporter": "python",
   "pygments_lexer": "ipython3",
   "version": "3.13.2"
  }
 },
 "nbformat": 4,
 "nbformat_minor": 5
}
