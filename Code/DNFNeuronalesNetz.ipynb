{
 "cells": [
  {
   "cell_type": "markdown",
   "id": "2c526b38",
   "metadata": {},
   "source": [
    "# Neuronales Netz zur Realisierung einer DNF"
   ]
  },
  {
   "cell_type": "markdown",
   "id": "64b58088",
   "metadata": {},
   "source": [
    "## 1.Zuerst wird die DNF erstellt"
   ]
  },
  {
   "cell_type": "code",
   "execution_count": 91,
   "id": "dae02f85",
   "metadata": {},
   "outputs": [],
   "source": [
    "import numpy as np\n",
    "\n",
    "n = 10 #Anzahl der Eingabevariablen\n",
    "m = 5 #Anzahl der Monome\n",
    "\n",
    "\n",
    "#Definition der Monome als Liste von Literalen\n",
    "# 1 für wahr, -1 für falsch, 0 für nicht verwendet\n",
    "dnf = np.array([\n",
    "    [ 1, -1,  1,  0,  0,  0,  0,  0,  0,  0],  # Monom 1: x1 ∧ ¬x2 ∧ x3\n",
    "    [-1,  1,  0,  1,  0,  0,  0,  0,  0,  0],  # Monom 2: ¬x1 ∧ x2 ∧ x4\n",
    "    [ 1,  0,  0, -1,  1,  0,  0,  0,  0,  0],  # Monom 3: x1 ∧ ¬x4 ∧ x5\n",
    "    [ 0, -1,  1,  0,  1,  0,  0,  0,  0,  0],  # Monom 4: ¬x2 ∧ x3 ∧ x5\n",
    "    [-1,  0,  0,  1, -1,  1,  0,  0,  0,  0],  # Monom 5: ¬x1 ∧ x4 ∧ ¬x5 ∧ x6\n",
    "])\n",
    "\n",
    "dnf2 = np.array([\n",
    "    [ 1, -1,  1,  0,  0,  0,  0,  0,  0,  0],  # Monom 1: x1 ∧ ¬x2 ∧ x3\n",
    "    [-1,  1,  -1,  0,  0,  0,  0,  0,  0,  0],  # Monom 2: ¬x1 ∧ x2 ∧ x4\n",
    "    [ 1,  1,  -1,  0,  0,  0,  0,  0,  0,  0],  # Monom 3: x1 ∧ ¬x4 ∧ x5\n",
    "    [ -1, -1,  1,  0,  0,  0,  0,  0,  0,  0],  # Monom 4: ¬x2 ∧ x3 ∧ x5\n",
    "    [1,  -1,  -1,  0, 0,  0,  0,  0,  0,  0],  # Monom 5: ¬x1 ∧ x4 ∧ ¬x5 ∧ x6\n",
    "])"
   ]
  },
  {
   "cell_type": "markdown",
   "id": "13ffa775",
   "metadata": {},
   "source": [
    "## 2. Gewichtsmatrix und Schwellenwerte berechnen"
   ]
  },
  {
   "cell_type": "code",
   "execution_count": 92,
   "id": "0589788e",
   "metadata": {},
   "outputs": [],
   "source": [
    "def calculate_weights_and_thresholds(dnf_matrix):\n",
    "    w = dnf_matrix.copy() #Gewichte für erste Schicht\n",
    "    v = np.sum(np.abs(w), axis=1) #Schwellenwerte für jede Zeile\n",
    "    W = np.ones((1, m))\n",
    "    V = -(m - 1)\n",
    "    print(f\"w ={w}, v = {v},/n W = {W}/n V = {V}\")\n",
    "    return w, v, W, V"
   ]
  },
  {
   "cell_type": "markdown",
   "id": "45b3162f",
   "metadata": {},
   "source": [
    "## 3.Vorzeichenfunktion definieren"
   ]
  },
  {
   "cell_type": "code",
   "execution_count": 93,
   "id": "599a7749",
   "metadata": {},
   "outputs": [],
   "source": [
    "def sgn(x):\n",
    "    return np.where(x >= 0, 1, -1)"
   ]
  },
  {
   "cell_type": "markdown",
   "id": "d6979930",
   "metadata": {},
   "source": [
    "## 4.Vorwärtspropagation"
   ]
  },
  {
   "cell_type": "code",
   "execution_count": 94,
   "id": "0197d71b",
   "metadata": {},
   "outputs": [],
   "source": [
    "def forward(x, w, v, W, V):\n",
    "    z = sgn(np.dot(w, x) - v)\n",
    "    print(z)\n",
    "    y = sgn(np.dot(W, z) - V)\n",
    "    print(y)\n",
    "    return y, z"
   ]
  },
  {
   "cell_type": "code",
   "execution_count": 95,
   "id": "0a3c245d",
   "metadata": {},
   "outputs": [],
   "source": [
    "def train_step(x, p, w, v, W, V, eta):\n",
    "    y, z = forward(x, w, v, W, V)\n",
    "    error = p - y\n",
    "\n",
    "    # ∆W1j = η · (p−y) · zj\n",
    "    delta_W = eta * error * z\n",
    "    # ∆V = −η · (p−y)\n",
    "    delta_V = -eta * error\n",
    "\n",
    "    # ∆wjk = η ·W1j(p−y) · xk\n",
    "    delta_w = eta * error * W.T @ x.reshape(1, -1)\n",
    "    # ∆vj = −η · (p−y) ·W1j\n",
    "    delta_v = -eta * error * W.flatten()\n",
    "\n",
    "    # Update\n",
    "    w_new = w + delta_w\n",
    "    v_new = v + delta_v\n",
    "    W_new = W + delta_W.reshape(1, -1)\n",
    "    V_new = V + delta_V\n",
    "\n",
    "    return w_new, v_new, W_new, V_new, y, error"
   ]
  },
  {
   "cell_type": "markdown",
   "id": "a9d653a6",
   "metadata": {},
   "source": [
    "## 5. Tests mit Beispiel"
   ]
  },
  {
   "cell_type": "code",
   "execution_count": 96,
   "id": "9bc2893b",
   "metadata": {},
   "outputs": [
    {
     "name": "stdout",
     "output_type": "stream",
     "text": [
      "w =[[ 1 -1  1  0  0  0  0  0  0  0]\n",
      " [-1  1 -1  0  0  0  0  0  0  0]\n",
      " [ 1  1 -1  0  0  0  0  0  0  0]\n",
      " [-1 -1  1  0  0  0  0  0  0  0]\n",
      " [ 1 -1 -1  0  0  0  0  0  0  0]], v = [3 3 3 3 3],/n W = [[1. 1. 1. 1. 1.]]/n V = -4\n",
      "[-1 -1 -1 -1  1]\n",
      "[1]\n",
      "Output = [1]\n",
      "Input x:            [ 1 -1 -1 -1  1 -1 -1  1  1  1]\n",
      "Netzoutput y:        [-1]\n",
      "Fehler (p - y):      [0]\n",
      "\n",
      "Haben sich die Gewichte geändert?\n",
      "w verändert?: False\n",
      "v verändert?: False\n",
      "W verändert?: False\n",
      "V verändert?: [False]\n"
     ]
    }
   ],
   "source": [
    "# Beispielinput, der falsch sein soll (DNF = -1)\n",
    "x = np.array([1, -1, -1, -1, 1, -1, -1, 1, 1, 1])\n",
    "p = 1  # erwartete Zielausgabe für x\n",
    "\n",
    "# Gewichte direkt aus DNF bestimmen\n",
    "w, v, W, V = calculate_weights_and_thresholds(dnf2)\n",
    "\n",
    "y, z = forward(x, w, v, W, V)\n",
    "\n",
    "\n",
    "print(f\"Output = {y}\")\n",
    "# Lernrate\n",
    "eta = 0.1\n",
    "\n",
    "# Gewichte und Schwellen vor dem Training speichern\n",
    "#w_old, v_old, W_old, V_old = w.copy(), v.copy(), W.copy(), V\n",
    "\n",
    "\n",
    "\n",
    "# Trainingsschritt\n",
    "#w_new, v_new, W_new, V_new, y_pred, error = train_step(x, p, w, v, W, V, eta)\n",
    "\n",
    "# ==========================\n",
    "# 7. Ausgabe\n",
    "# ==========================\n",
    "print(\"Input x:           \", x)\n",
    "#print(\"Erwarteter Output p:\", p)\n",
    "print(\"Netzoutput y:       \", y_pred)\n",
    "print(\"Fehler (p - y):     \", error)\n",
    "\n",
    "# Vergleich der Gewichte\n",
    "print(\"\\nHaben sich die Gewichte geändert?\")\n",
    "print(\"w verändert?:\", not np.allclose(w_old, w_new))\n",
    "print(\"v verändert?:\", not np.allclose(v_old, v_new))\n",
    "print(\"W verändert?:\", not np.allclose(W_old, W_new))\n",
    "print(\"V verändert?:\", V_old != V_new)"
   ]
  }
 ],
 "metadata": {
  "kernelspec": {
   "display_name": "base",
   "language": "python",
   "name": "python3"
  },
  "language_info": {
   "codemirror_mode": {
    "name": "ipython",
    "version": 3
   },
   "file_extension": ".py",
   "mimetype": "text/x-python",
   "name": "python",
   "nbconvert_exporter": "python",
   "pygments_lexer": "ipython3",
   "version": "3.9.7"
  }
 },
 "nbformat": 4,
 "nbformat_minor": 5
}
