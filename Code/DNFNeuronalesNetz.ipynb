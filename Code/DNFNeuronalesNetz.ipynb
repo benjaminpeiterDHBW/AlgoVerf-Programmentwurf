{
 "cells": [
  {
   "cell_type": "markdown",
   "id": "2c526b38",
   "metadata": {},
   "source": [
    "# Neuronales Netz zur Realisierung einer DNF"
   ]
  },
  {
   "cell_type": "markdown",
   "id": "64b58088",
   "metadata": {},
   "source": [
    "## 1.Zuerst wird die DNF erstellt"
   ]
  },
  {
   "cell_type": "code",
   "execution_count": null,
   "id": "dae02f85",
   "metadata": {},
   "outputs": [],
   "source": [
    "import numpy as np\n",
    "\n",
    "n = 10 #Anzahl der Eingabevariablen\n",
    "m = 5 #Anzahl der Monome\n",
    "\n",
    "\n",
    "#Definition der Monome als Liste von Literalen\n",
    "# 1 für wahr, -1 für falsch, 0 für nicht verwendet\n",
    "dnf = np.array([\n",
    "    [ 1, -1,  1,  0,  0,  0,  0,  0,  0,  0],  # Monom 1: x1 ∧ ¬x2 ∧ x3\n",
    "    [-1,  1,  0,  1,  0,  0,  0,  0,  0,  0],  # Monom 2: ¬x1 ∧ x2 ∧ x4\n",
    "    [ 1,  0,  0, -1,  1,  0,  0,  0,  0,  0],  # Monom 3: x1 ∧ ¬x4 ∧ x5\n",
    "    [ 0, -1,  1,  0,  1,  0,  0,  0,  0,  0],  # Monom 4: ¬x2 ∧ x3 ∧ x5\n",
    "    [-1,  0,  0,  1, -1,  1,  0,  0,  0,  0],  # Monom 5: ¬x1 ∧ x4 ∧ ¬x5 ∧ x6\n",
    "])\n",
    "\n",
    "dnf2 = np.array([\n",
    "    [ 1, -1,  1,  0,  0,  0,  0,  0,  0,  0],  # Monom 1: x1 ∧ ¬x2 ∧ x3\n",
    "    [-1,  1,  -1,  0,  0,  0,  0,  0,  0,  0],  # Monom 2: ¬x1 ∧ x2 ∧ x4\n",
    "    [ 1,  1,  -1,  0,  0,  0,  0,  0,  0,  0],  # Monom 3: x1 ∧ ¬x4 ∧ x5\n",
    "    [ -1, -1,  1,  0,  0,  0,  0,  0,  0,  0],  # Monom 4: ¬x2 ∧ x3 ∧ x5\n",
    "    [1,  -1,  -1,  0, 0,  0,  0,  0,  0,  0],  # Monom 5: ¬x1 ∧ x4 ∧ ¬x5 ∧ x6\n",
    "])"
   ]
  },
  {
   "cell_type": "markdown",
   "id": "13ffa775",
   "metadata": {},
   "source": [
    "## 2. Gewichtsmatrix und Schwellenwerte berechnen"
   ]
  },
  {
   "cell_type": "code",
   "execution_count": null,
   "id": "0589788e",
   "metadata": {},
   "outputs": [],
   "source": [
    "def calculate_weights_and_thresholds(dnf_matrix):\n",
    "   \"\"\"  w = dnf_matrix.copy() #Gewichte für erste Schicht\n",
    "    v = np.sum(np.abs(w), axis=1) #Schwellenwerte für jede Zeile\n",
    "    W = np.ones((1, m))\n",
    "    V = -(m - 1)\n",
    "    print(f\"w ={w}, v = {v},/n W = {W}/n V = {V}\")\n",
    "    return w, v, W, V \"\"\"\n",
    "   w = dnf_matrix.astype(float) \n",
    "   v = np.sum(np.abs(w), axis=1).astype(float)\n",
    "   W = np.ones((1, m), dtype=float)\n",
    "   V = float(-(m - 1))\n",
    "   return w, v, W, V"
   ]
  },
  {
   "cell_type": "markdown",
   "id": "45b3162f",
   "metadata": {},
   "source": [
    "## 3.Vorzeichenfunktion definieren"
   ]
  },
  {
   "cell_type": "code",
   "execution_count": null,
   "id": "599a7749",
   "metadata": {},
   "outputs": [],
   "source": [
    "def sgn(x):\n",
    "    return np.where(x >= 0, 1, -1)"
   ]
  },
  {
   "cell_type": "markdown",
   "id": "d6979930",
   "metadata": {},
   "source": [
    "## 4.Vorwärtspropagation"
   ]
  },
  {
   "cell_type": "code",
   "execution_count": null,
   "id": "0197d71b",
   "metadata": {},
   "outputs": [],
   "source": [
    "def forward(x, w, v, W, V):\n",
    "    z = sgn(np.dot(w, x) - v)\n",
    "    y = sgn(np.dot(W, z) - V)\n",
    "    return y, z"
   ]
  },
  {
   "cell_type": "code",
   "execution_count": null,
   "id": "0a3c245d",
   "metadata": {},
   "outputs": [],
   "source": [
    "def train(x, p, w, v, W, V, eta):\n",
    "    y, z = forward(x, w, v, W, V)\n",
    "\n",
    "    # Ausgabe-Schicht (Output)\n",
    "    delta_V = -eta * (p - y)\n",
    "    delta_W = eta * (p - y) * z\n",
    "    V += delta_V\n",
    "    W += delta_W\n",
    "\n",
    "    # Versteckte Schicht (Hidden Layer)\n",
    "    for j in range(W.shape[1]):\n",
    "        delta_vj = -eta * (p - y) * W[0, j]\n",
    "        delta_wj = eta * W[0, j] * (p - y) * x\n",
    "        v[j] += delta_vj\n",
    "        w[j] += delta_wj\n",
    "\n",
    "    return w, v, W, V, y"
   ]
  },
  {
   "cell_type": "markdown",
   "id": "a9d653a6",
   "metadata": {},
   "source": [
    "## 5. Tests mit Beispiel"
   ]
  },
  {
   "cell_type": "code",
   "execution_count": null,
   "id": "9bc2893b",
   "metadata": {},
   "outputs": [],
   "source": [
    "\"\"\" # Beispielinput, der falsch sein soll (DNF = -1)\n",
    "x = np.array([-1, -1, 1, -1, 1, -1, -1, 1, 1, 1])\n",
    "p = 1  # erwartete Zielausgabe für x\n",
    "\n",
    "# Gewichte direkt aus DNF bestimmen\n",
    "w, v, W, V = calculate_weights_and_thresholds(dnf2)\n",
    "\n",
    "y, z = forward(x, w, v, W, V)\n",
    "\n",
    "\n",
    "print(f\"Output = {y}\")\n",
    "# Lernrate\n",
    "eta = 0.1\n",
    "\n",
    "\n",
    "\n",
    "\n",
    " \"\"\""
   ]
  },
  {
   "cell_type": "code",
   "execution_count": null,
   "id": "5b581051",
   "metadata": {},
   "outputs": [],
   "source": [
    "# Trainingsdaten: Tupel (x, Zielwert p)\n",
    "training_data = [\n",
    "    (np.array([-1, -1,  1, -1,  1, -1, -1,  1, 1, 1]),  1),\n",
    "    (np.array([ 1,  1, 1, -1,  1,  1, -1,  1, 1, 1]),  -1),\n",
    "    (np.array([ 1, -1,  1,  0,  0,  0,  0,  0, 0, 0]),  1),\n",
    "    (np.array([-1, -1, -1,  1, -1,  1,  0,  0, 0, 0]), -1),\n",
    "    (np.array([ 1, -1, -1,  0,  0,  0,  0,  0, 0, 0]),  1),\n",
    "]\n",
    "eta = 0.1\n",
    "# Initialisierung der Gewichte über DNF\n",
    "#w, v, W, V = calculate_weights_and_thresholds(dnf2)\n",
    "\n",
    "w = np.random.uniform(-1, 1, (m, n))\n",
    "v = np.random.uniform(0, 2, m)\n",
    "W = np.random.uniform(-1, 1, (1, m))\n",
    "V = np.random.uniform(-1, 1)\n",
    "# Training\n",
    "for epoch in range(20):\n",
    "    total_error = 0\n",
    "    for x, p in training_data:\n",
    "        w, v, W, V, y = train(x, p, w, v, W, V, eta)\n",
    "        total_error += int(y != p)\n",
    "    print(f\"Epoche {epoch + 1}, Fehler: {total_error}\")\n",
    "\n",
    "# Testausgabe nach dem Training\n",
    "print(\"\\nTestergebnisse nach Training:\")\n",
    "for x, p in training_data:\n",
    "    y, _ = forward(x, w, v, W, V)\n",
    "    print(f\"Eingabe: {x}, Ziel: {p}, Ausgabe: {y}\")"
   ]
  },
  {
   "cell_type": "markdown",
   "id": "b1a75618",
   "metadata": {},
   "source": [
    "## Kontrolle ohne Neuronales Netz\n"
   ]
  },
  {
   "cell_type": "code",
   "execution_count": null,
   "id": "615e1e5a",
   "metadata": {},
   "outputs": [],
   "source": [
    "def evaluate_dnf(dnf_matrix, x):\n",
    "    \"\"\"\n",
    "    Evaluates the DNF using logical operators.\n",
    "    \n",
    "    Parameters:\n",
    "        dnf_matrix (numpy.ndarray): The DNF matrix where each row represents a monomial.\n",
    "        x (numpy.ndarray): The input vector to evaluate.\n",
    "        \n",
    "    Returns:\n",
    "        int: 1 if the input satisfies the DNF, otherwise -1.\n",
    "    \"\"\"\n",
    "    for monomial in dnf_matrix:\n",
    "        monomial_result = True\n",
    "        for literal, value in zip(monomial, x):\n",
    "            if literal == 1:  # Literal is positive\n",
    "                monomial_result = monomial_result and (value == 1)\n",
    "            elif literal == -1:  # Literal is negated\n",
    "                monomial_result = monomial_result and (value == -1)\n",
    "        if monomial_result:\n",
    "            return 1  # At least one monomial is satisfied\n",
    "    return -1  # None of the monomials are satisfied\n",
    "\n",
    "for elem in training_data:\n",
    "    print(evaluate_dnf(dnf2, elem[0]))"
   ]
  }
 ],
 "metadata": {
  "kernelspec": {
   "display_name": "base",
   "language": "python",
   "name": "python3"
  },
  "language_info": {
   "codemirror_mode": {
    "name": "ipython",
    "version": 3
   },
   "file_extension": ".py",
   "mimetype": "text/x-python",
   "name": "python",
   "nbconvert_exporter": "python",
   "pygments_lexer": "ipython3",
   "version": "3.9.7"
  }
 },
 "nbformat": 4,
 "nbformat_minor": 5
}
