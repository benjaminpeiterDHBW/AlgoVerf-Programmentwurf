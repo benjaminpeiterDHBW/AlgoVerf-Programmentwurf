{
 "cells": [
  {
   "cell_type": "code",
   "execution_count": 401,
   "id": "80da179a",
   "metadata": {},
   "outputs": [],
   "source": [
    "import numpy as np\n",
    "import random"
   ]
  },
  {
   "cell_type": "markdown",
   "id": "fd78877c",
   "metadata": {},
   "source": [
    "## Trainingsdaten und DNF"
   ]
  },
  {
   "cell_type": "code",
   "execution_count": 402,
   "id": "5e28c857",
   "metadata": {},
   "outputs": [],
   "source": [
    "dnf_training = np.array([[-1, -1, -1,  1, -1,  1, -1,  1,  0, -1],\n",
    "                        [-1,  0, -1,  1,  0, -1,  1,  1, -1,  0],\n",
    "                        [ 1, -1,  1,  0, -1, -1, -1,  1,  0,  0],\n",
    "                        [ 0, -1,  1,  0, -1, -1, -1,  1, -1, -1],\n",
    "                        [-1, -1,  0,  1, -1,  1,  1,  0,  0, -1]]).astype(np.float64)\n",
    "\n",
    "\n",
    "inputs_with_p = [\n",
    "    (np.array([-1, -1, -1,  1, -1,  1, -1,  1,  1, -1]), 1),\n",
    "    (np.array([-1,  1, -1,  1,  1, -1,  1,  1, -1,  1]), 1),\n",
    "    (np.array([ 1, -1,  1,  1, -1, -1, -1,  1,  1,  1]), 1),\n",
    "    (np.array([ 1, -1,  1,  1, -1, -1, -1,  1, -1, -1]), 1),\n",
    "    (np.array([-1, -1,  1,  1, -1,  1,  1,  1,  1, -1]), 1),\n",
    "    (np.array([-1, -1, -1, -1, -1, -1, -1, -1, -1, -1]), -1),\n",
    "    (np.array([ 1,  1,  1,  1,  1,  1,  1,  1,  1,  1]), -1),\n",
    "    (np.array([ 0,  0,  0,  0,  0,  0,  0,  0,  0,  0]), -1),\n",
    "    (np.array([ 1, -1,  1, -1,  1, -1,  1, -1,  1, -1]), -1),\n",
    "    (np.array([-1,  1, -1,  1, -1,  1, -1,  1, -1,  1]), -1)\n",
    "]"
   ]
  },
  {
   "cell_type": "markdown",
   "id": "1645f615",
   "metadata": {},
   "source": [
    "## Aktivierungsfunktion (Signum-Funktion)"
   ]
  },
  {
   "cell_type": "code",
   "execution_count": 403,
   "id": "a0042cc7",
   "metadata": {},
   "outputs": [],
   "source": [
    "# Signum-Funktion (sig), die die Werte eines Vektors auf -1 oder 1 setzt\n",
    "def sig(x):\n",
    "    \"\"\"\n",
    "    Wendet die Signum-Funktion auf jeden Wert eines Vektors an.\n",
    "    \n",
    "    Parameter:\n",
    "    - x: Eingabevektor (numpy-Array)\n",
    "    \n",
    "    Rückgabe:\n",
    "    - Ein numpy-Array mit Werten -1 oder 1.\n",
    "    \"\"\"\n",
    "    ret = np.copy(x)  # Kopiere den Eingabevektor\n",
    "    for i in range(np.shape(x)[0]):  # Iteriere über alle Elemente\n",
    "        if x[i] >= 0:\n",
    "            ret[i] = 1  # Setze positive Werte auf 1\n",
    "        else:\n",
    "            ret[i] = -1  # Setze negative Werte auf -1\n",
    "    return ret.astype(np.int64)  # Rückgabe als Integer-Array"
   ]
  },
  {
   "cell_type": "markdown",
   "id": "321f5adf",
   "metadata": {},
   "source": [
    "## Hilfsfunktion"
   ]
  },
  {
   "cell_type": "code",
   "execution_count": 404,
   "id": "7ba511e1",
   "metadata": {},
   "outputs": [],
   "source": [
    "# Funktion zur Berechnung der Anzahl der verwendeten Literale in einem Monom\n",
    "def get_used_literals(monome):\n",
    "    \"\"\"\n",
    "    Zählt die Anzahl der nicht-null Werte in einem Monom.\n",
    "    \n",
    "    Parameter:\n",
    "    - monome: Ein Array, das ein Monom repräsentiert\n",
    "    \n",
    "    Rückgabe:\n",
    "    - Anzahl der verwendeten Literale (Werte ungleich 0).\n",
    "    \"\"\"\n",
    "    literal_count = 0\n",
    "    for elem in monome:\n",
    "        if elem != 0:\n",
    "            literal_count += 1  # Erhöhe den Zähler für jedes nicht-null Element\n",
    "    return literal_count"
   ]
  },
  {
   "cell_type": "markdown",
   "id": "d1f8b1e7",
   "metadata": {},
   "source": [
    "## Schwellenwert zur Berechnung des Z-Layers"
   ]
  },
  {
   "cell_type": "code",
   "execution_count": 405,
   "id": "9c8faef6",
   "metadata": {},
   "outputs": [],
   "source": [
    "def calculate_treshold_z(w):\n",
    "\n",
    "    v = np.empty(w.shape[0], dtype=np.float64)\n",
    "    for i in range(w.shape[0]):\n",
    "        v[i] = get_used_literals(w[i]) - 0.5\n",
    "    \n",
    "    return v"
   ]
  },
  {
   "cell_type": "markdown",
   "id": "95573259",
   "metadata": {},
   "source": [
    "## Berechnung z-Layer"
   ]
  },
  {
   "cell_type": "code",
   "execution_count": 406,
   "id": "dcb4ce7d",
   "metadata": {},
   "outputs": [],
   "source": [
    "def calculate_z(w, input, v):\n",
    "\n",
    "    # Berechnung der z-Werte\n",
    "    z = np.empty(w.shape[0], dtype=np.float64)  # Initialisiere z\n",
    "    for j in range(w.shape[0]):\n",
    "        z[j] = np.dot(w[j], input) - v[j]  # Skalarprodukt minus v[j]\n",
    "    z = sig(z)  # Wende die Signum-Funktion auf z an\n",
    "\n",
    "    return z"
   ]
  },
  {
   "cell_type": "markdown",
   "id": "f3941c6e",
   "metadata": {},
   "source": [
    "## Berechnung der Schwellenwerte und Gewichte für das y-Layer"
   ]
  },
  {
   "cell_type": "code",
   "execution_count": 407,
   "id": "7f43636b",
   "metadata": {},
   "outputs": [],
   "source": [
    "def calculate_treshold_and_weights_y(z):\n",
    "\n",
    "    W = np.ones((z), np.float64)\n",
    "    V = -(z - 1)\n",
    "\n",
    "    return W, V"
   ]
  },
  {
   "cell_type": "markdown",
   "id": "0a845c2a",
   "metadata": {},
   "source": [
    "## Berechnung des y-Layer"
   ]
  },
  {
   "cell_type": "code",
   "execution_count": 408,
   "id": "e3d97df4",
   "metadata": {},
   "outputs": [],
   "source": [
    "def calculate_y(W, V, z):\n",
    "\n",
    "    y = np.matmul(W, z.T)\n",
    "\n",
    "    y = y - V\n",
    "    if y >= 0:\n",
    "        y = 1\n",
    "    else:\n",
    "        y = -1\n",
    "    return y"
   ]
  },
  {
   "cell_type": "markdown",
   "id": "2cf31cb2",
   "metadata": {},
   "source": [
    "## Test"
   ]
  },
  {
   "cell_type": "code",
   "execution_count": 409,
   "id": "9fcc0989",
   "metadata": {},
   "outputs": [
    {
     "name": "stdout",
     "output_type": "stream",
     "text": [
      "Input: [-1 -1 -1  1 -1  1 -1  1  1 -1]\n",
      "Tresholds: [8.5 6.5 6.5 7.5 6.5]\n",
      "Z: [ 1 -1 -1 -1 -1]\n",
      "W:  [1. 1. 1. 1. 1.]\n",
      "V:  -4\n",
      "y: 1\n"
     ]
    }
   ],
   "source": [
    "input = inputs_with_p[0][0]  # Beispiel-Eingabevektor\n",
    "print(\"Input:\", input)\n",
    "\n",
    "# Berechnung der Gewichtsmatrix W und der Schwellenwerte v\n",
    "z_treshhold = calculate_treshold_z(dnf_training)\n",
    "print(\"Tresholds:\", z_treshhold)\n",
    "#Berechne z\n",
    "z = calculate_z(dnf_training, input, z_treshhold)\n",
    "print(\"Z:\", z)\n",
    "\n",
    "#Berechnung der Gewichtsmatrix W und des Schwellenwerts V für die Ausgabe\n",
    "y_treshhold = calculate_treshold_and_weights_y(z.shape[0])\n",
    "print(\"W: \", y_treshhold[0])\n",
    "print(\"V: \", y_treshhold[1])\n",
    "\n",
    "# Berechne y\n",
    "y = calculate_y(y_treshhold[0], y_treshhold[1], z)\n",
    "print(\"y:\", y)"
   ]
  },
  {
   "cell_type": "markdown",
   "id": "e6e4874e",
   "metadata": {},
   "source": [
    "## Backpropagation"
   ]
  },
  {
   "cell_type": "code",
   "execution_count": 410,
   "id": "ddf98413",
   "metadata": {},
   "outputs": [],
   "source": [
    "def calculate_deltas(input, p, lernrate, z, y, w, v, W, V):\n",
    "    \n",
    "    delta_w = np.copy(w)\n",
    "    delta_v = np.copy(v)\n",
    "    delta_W = np.copy(W)\n",
    "    delta_V = np.copy(V)\n",
    "\n",
    "    error = p - y\n",
    "\n",
    "    for j in range(W.size):\n",
    "        delta_W[j] = lernrate * error * z[j]\n",
    "        delta_v[j] = -lernrate * error * W[j]\n",
    "        for k in range(input.size):\n",
    "            delta_w[j][k] = lernrate * W[j] * error * input[k]\n",
    "    delta_V = -lernrate * error\n",
    "\n",
    "    return delta_w, delta_v, delta_W, delta_V"
   ]
  },
  {
   "cell_type": "code",
   "execution_count": 411,
   "id": "2eef3892",
   "metadata": {},
   "outputs": [
    {
     "data": {
      "text/plain": [
       "' # Test Backpropagation\\np = inputs_with_p[0][1]  # Beispiel-Output\\nprint(calculate_deltas(input, p, 0.1, z, y, dnf_training, z_treshhold, y_treshhold[0], y_treshhold[1])) '"
      ]
     },
     "execution_count": 411,
     "metadata": {},
     "output_type": "execute_result"
    }
   ],
   "source": [
    "\"\"\" # Test Backpropagation\n",
    "p = inputs_with_p[0][1]  # Beispiel-Output\n",
    "print(calculate_deltas(input, p, 0.1, z, y, dnf_training, z_treshhold, y_treshhold[0], y_treshhold[1])) \"\"\""
   ]
  },
  {
   "cell_type": "code",
   "execution_count": null,
   "id": "fc271622",
   "metadata": {},
   "outputs": [],
   "source": [
    "def change_weights(dnf, full):\n",
    "\n",
    "        \n",
    "    for i in range(dnf.shape[0]):\n",
    "        #print(i)\n",
    "        for j in range(dnf.shape[1]):\n",
    "            #print(j)\n",
    "            if full == False:\n",
    "                dnf[i][j] += (random.randint(-10 , 10) * 0.1)\n",
    "            else:\n",
    "                dnf[i][j] = random.randint(-10, 10) * 0.1\n",
    "    \n",
    "\n",
    "    return dnf"
   ]
  },
  {
   "cell_type": "code",
   "execution_count": 419,
   "id": "b667125c",
   "metadata": {},
   "outputs": [],
   "source": [
    "def feedforward_backpropagation(dnf, trainings_data, lerningsrate, epochs):\n",
    "    \n",
    "    w = change_weights(dnf, True)\n",
    "    v = calculate_treshold_z(w)\n",
    "    y_treshhold = calculate_treshold_and_weights_y(w.shape[0])\n",
    "    W, V = y_treshhold\n",
    "    \n",
    "    for epoch in range(epochs):\n",
    "        random_int = random.randint(0, len(trainings_data) - 1)\n",
    "        input = trainings_data[random_int][0]\n",
    "        p = trainings_data[random_int][1]\n",
    "        z = calculate_z(w, input, v)\n",
    "        y  = calculate_y(W, V, z)\n",
    "\n",
    "        \"\"\"     \n",
    "        print(\"_______________________________________________________________\")\n",
    "        print(\"Epoch:\", epoch + 1)\n",
    "        print(\"Input:\", input)\n",
    "        print(\"w = \", w)\n",
    "        print(\"v = \", v)\n",
    "        print(\"z = \", z)\n",
    "        print(\"W = \", y_treshhold[0])\n",
    "        print(\"V = \", y_treshhold[1])\n",
    "        print(\"y = \", y)\n",
    "        print(\"p = \", p)\n",
    "        print(\"Fehler = \", p - y)\n",
    "        print(\"_______________________________________________________________\")\n",
    "        \"\"\"\n",
    "        print(f\"y= {y}, p= {p} Fehler={p - y}\")\n",
    "\n",
    "        delta_w, delta_v, delta_W, delta_V = calculate_deltas(input, p, lerningsrate, z, y, w, v, y_treshhold[0], y_treshhold[1])\n",
    "        w = np.add(w, delta_w)\n",
    "        v = np.add(v, delta_v)\n",
    "        W = np.add(y_treshhold[0], delta_W)\n",
    "        V = np.add(y_treshhold[1], delta_V)\n",
    "\n",
    "        "
   ]
  },
  {
   "cell_type": "code",
   "execution_count": 420,
   "id": "e5c7b37f",
   "metadata": {},
   "outputs": [
    {
     "ename": "NameError",
     "evalue": "name 'Flase' is not defined",
     "output_type": "error",
     "traceback": [
      "\u001b[1;31m---------------------------------------------------------------------------\u001b[0m",
      "\u001b[1;31mNameError\u001b[0m                                 Traceback (most recent call last)",
      "\u001b[1;32m~\\AppData\\Local\\Temp/ipykernel_23224/3373447296.py\u001b[0m in \u001b[0;36m<module>\u001b[1;34m\u001b[0m\n\u001b[0;32m      7\u001b[0m \u001b[1;33m\u001b[0m\u001b[0m\n\u001b[0;32m      8\u001b[0m \u001b[1;33m\u001b[0m\u001b[0m\n\u001b[1;32m----> 9\u001b[1;33m \u001b[0mfeedforward_backpropagation\u001b[0m\u001b[1;33m(\u001b[0m\u001b[0mdnf_training\u001b[0m\u001b[1;33m,\u001b[0m \u001b[0minputs_with_p\u001b[0m\u001b[1;33m,\u001b[0m \u001b[1;36m0.1\u001b[0m\u001b[1;33m,\u001b[0m \u001b[1;36m100\u001b[0m\u001b[1;33m)\u001b[0m\u001b[1;33m\u001b[0m\u001b[1;33m\u001b[0m\u001b[0m\n\u001b[0m",
      "\u001b[1;32m~\\AppData\\Local\\Temp/ipykernel_23224/580221552.py\u001b[0m in \u001b[0;36mfeedforward_backpropagation\u001b[1;34m(dnf, trainings_data, lerningsrate, epochs)\u001b[0m\n\u001b[0;32m      1\u001b[0m \u001b[1;32mdef\u001b[0m \u001b[0mfeedforward_backpropagation\u001b[0m\u001b[1;33m(\u001b[0m\u001b[0mdnf\u001b[0m\u001b[1;33m,\u001b[0m \u001b[0mtrainings_data\u001b[0m\u001b[1;33m,\u001b[0m \u001b[0mlerningsrate\u001b[0m\u001b[1;33m,\u001b[0m \u001b[0mepochs\u001b[0m\u001b[1;33m)\u001b[0m\u001b[1;33m:\u001b[0m\u001b[1;33m\u001b[0m\u001b[1;33m\u001b[0m\u001b[0m\n\u001b[0;32m      2\u001b[0m \u001b[1;33m\u001b[0m\u001b[0m\n\u001b[1;32m----> 3\u001b[1;33m     \u001b[0mw\u001b[0m \u001b[1;33m=\u001b[0m \u001b[0mchange_weights\u001b[0m\u001b[1;33m(\u001b[0m\u001b[0mdnf\u001b[0m\u001b[1;33m,\u001b[0m \u001b[1;32mTrue\u001b[0m\u001b[1;33m)\u001b[0m\u001b[1;33m\u001b[0m\u001b[1;33m\u001b[0m\u001b[0m\n\u001b[0m\u001b[0;32m      4\u001b[0m     \u001b[0mv\u001b[0m \u001b[1;33m=\u001b[0m \u001b[0mcalculate_treshold_z\u001b[0m\u001b[1;33m(\u001b[0m\u001b[0mw\u001b[0m\u001b[1;33m)\u001b[0m\u001b[1;33m\u001b[0m\u001b[1;33m\u001b[0m\u001b[0m\n\u001b[0;32m      5\u001b[0m     \u001b[0my_treshhold\u001b[0m \u001b[1;33m=\u001b[0m \u001b[0mcalculate_treshold_and_weights_y\u001b[0m\u001b[1;33m(\u001b[0m\u001b[0mw\u001b[0m\u001b[1;33m.\u001b[0m\u001b[0mshape\u001b[0m\u001b[1;33m[\u001b[0m\u001b[1;36m0\u001b[0m\u001b[1;33m]\u001b[0m\u001b[1;33m)\u001b[0m\u001b[1;33m\u001b[0m\u001b[1;33m\u001b[0m\u001b[0m\n",
      "\u001b[1;32m~\\AppData\\Local\\Temp/ipykernel_23224/1064084411.py\u001b[0m in \u001b[0;36mchange_weights\u001b[1;34m(dnf, full)\u001b[0m\n\u001b[0;32m      6\u001b[0m         \u001b[1;32mfor\u001b[0m \u001b[0mj\u001b[0m \u001b[1;32min\u001b[0m \u001b[0mrange\u001b[0m\u001b[1;33m(\u001b[0m\u001b[0mdnf\u001b[0m\u001b[1;33m.\u001b[0m\u001b[0mshape\u001b[0m\u001b[1;33m[\u001b[0m\u001b[1;36m1\u001b[0m\u001b[1;33m]\u001b[0m\u001b[1;33m)\u001b[0m\u001b[1;33m:\u001b[0m\u001b[1;33m\u001b[0m\u001b[1;33m\u001b[0m\u001b[0m\n\u001b[0;32m      7\u001b[0m             \u001b[1;31m#print(j)\u001b[0m\u001b[1;33m\u001b[0m\u001b[1;33m\u001b[0m\u001b[0m\n\u001b[1;32m----> 8\u001b[1;33m             \u001b[1;32mif\u001b[0m \u001b[0mfull\u001b[0m \u001b[1;33m==\u001b[0m \u001b[0mFlase\u001b[0m\u001b[1;33m:\u001b[0m\u001b[1;33m\u001b[0m\u001b[1;33m\u001b[0m\u001b[0m\n\u001b[0m\u001b[0;32m      9\u001b[0m                 \u001b[0mdnf\u001b[0m\u001b[1;33m[\u001b[0m\u001b[0mi\u001b[0m\u001b[1;33m]\u001b[0m\u001b[1;33m[\u001b[0m\u001b[0mj\u001b[0m\u001b[1;33m]\u001b[0m \u001b[1;33m+=\u001b[0m \u001b[1;33m(\u001b[0m\u001b[0mrandom\u001b[0m\u001b[1;33m.\u001b[0m\u001b[0mrandint\u001b[0m\u001b[1;33m(\u001b[0m\u001b[1;33m-\u001b[0m\u001b[1;36m10\u001b[0m \u001b[1;33m,\u001b[0m \u001b[1;36m10\u001b[0m\u001b[1;33m)\u001b[0m \u001b[1;33m*\u001b[0m \u001b[1;36m0.1\u001b[0m\u001b[1;33m)\u001b[0m\u001b[1;33m\u001b[0m\u001b[1;33m\u001b[0m\u001b[0m\n\u001b[0;32m     10\u001b[0m             \u001b[1;32melse\u001b[0m\u001b[1;33m:\u001b[0m\u001b[1;33m\u001b[0m\u001b[1;33m\u001b[0m\u001b[0m\n",
      "\u001b[1;31mNameError\u001b[0m: name 'Flase' is not defined"
     ]
    }
   ],
   "source": [
    "# feedforward_backpropagation Test\n",
    "\n",
    "\"\"\" v = calculate_treshold_z(dnf_training)\n",
    "z = calculate_z(dnf_training, input, v)\n",
    "W, V = calculate_treshold_and_weights_y(z.shape[0])\n",
    "y = calculate_y(W, V, z) \"\"\"\n",
    "\n",
    "\n",
    "feedforward_backpropagation(dnf_training, inputs_with_p, 0.1, 100)"
   ]
  },
  {
   "cell_type": "code",
   "execution_count": 415,
   "id": "81e3f537",
   "metadata": {},
   "outputs": [
    {
     "name": "stdout",
     "output_type": "stream",
     "text": [
      "[[-1.40000000e+00 -9.00000000e-01 -2.90000000e+00 -4.00000000e-01\n",
      "  -1.40000000e+00 -1.00000000e-01 -8.00000000e-01  1.50000000e+00\n",
      "   1.10000000e+00 -2.90000000e+00]\n",
      " [-1.70000000e+00 -1.10000000e+00 -5.00000000e-01  7.00000000e-01\n",
      "   1.00000000e-01 -2.00000000e-01  6.00000000e-01  2.00000000e-01\n",
      "  -2.40000000e+00 -1.50000000e+00]\n",
      " [ 2.90000000e+00 -9.00000000e-01  1.00000000e-01  1.40000000e+00\n",
      "   5.55111512e-17 -1.90000000e+00 -1.20000000e+00  7.00000000e-01\n",
      "   9.00000000e-01  1.40000000e+00]\n",
      " [-3.00000000e-01 -4.00000000e-01  8.00000000e-01 -1.10000000e+00\n",
      "  -3.00000000e-01 -2.60000000e+00 -1.10000000e+00  1.40000000e+00\n",
      "  -1.30000000e+00 -1.50000000e+00]\n",
      " [-1.00000000e+00  3.00000000e-01  7.00000000e-01  1.40000000e+00\n",
      "  -1.60000000e+00 -1.11022302e-16  1.10000000e+00 -2.00000000e-01\n",
      "  -4.00000000e-01 -1.50000000e+00]]\n"
     ]
    }
   ],
   "source": [
    "print(change_weights(dnf_training.astype(np.float64)))"
   ]
  }
 ],
 "metadata": {
  "kernelspec": {
   "display_name": "base",
   "language": "python",
   "name": "python3"
  },
  "language_info": {
   "codemirror_mode": {
    "name": "ipython",
    "version": 3
   },
   "file_extension": ".py",
   "mimetype": "text/x-python",
   "name": "python",
   "nbconvert_exporter": "python",
   "pygments_lexer": "ipython3",
   "version": "3.9.7"
  }
 },
 "nbformat": 4,
 "nbformat_minor": 5
}
