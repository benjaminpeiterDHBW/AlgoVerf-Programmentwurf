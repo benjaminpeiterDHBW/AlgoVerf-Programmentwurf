{
 "cells": [
  {
   "cell_type": "code",
   "execution_count": 244,
   "id": "c64a5b5b",
   "metadata": {},
   "outputs": [],
   "source": [
    "# Import der benötigten Bibliotheken\n",
    "import numpy as np  # Für numerische Berechnungen und Arrays\n",
    "import random       # Für die zufällige Generierung von Werten"
   ]
  },
  {
   "cell_type": "code",
   "execution_count": 245,
   "id": "64a99393",
   "metadata": {},
   "outputs": [
    {
     "name": "stdout",
     "output_type": "stream",
     "text": [
      "[[ 0 -1  1  0  0  0  0  1 -1  1]\n",
      " [ 0  0  1  1  1 -1  1  0 -1 -1]\n",
      " [-1  0  0  1 -1  0 -1  1  0 -1]\n",
      " [-1  0  0 -1  0  0  0  0 -1  0]\n",
      " [-1 -1  1  0  0  1  1  0  1  1]]\n"
     ]
    }
   ],
   "source": [
    "# Funktion zur Erstellung einer zufälligen Disjunktiven Normalform (DNF)\n",
    "def create_random_dnf(n, m):\n",
    "    \"\"\"\n",
    "    Erstellt eine zufällige DNF mit n Variablen und m Monomen.\n",
    "    \n",
    "    Parameter:\n",
    "    - n: Anzahl der Variablen\n",
    "    - m: Anzahl der Monome\n",
    "    \n",
    "    Rückgabe:\n",
    "    - Ein numpy-Array, das die DNF repräsentiert. \n",
    "      Jedes Monom ist ein Array mit Werten -1, 1 oder 0.\n",
    "    \"\"\"\n",
    "    dnf = []  # Liste zur Speicherung der Monome\n",
    "    for i in range(m):\n",
    "        monome = []  # Ein einzelnes Monom\n",
    "        for j in range(n):\n",
    "            # Zufällige Auswahl von -1, 1 oder 0 für jedes Literal\n",
    "            monome.append(random.choice([-1, 1, 0]))\n",
    "        dnf.append(monome)  # Monom zur DNF hinzufügen\n",
    "    return np.array(dnf)  # Rückgabe als numpy-Array\n",
    "\n",
    "# Test: Erstelle eine zufällige DNF mit 10 Variablen und 5 Monomen\n",
    "test_dnf = create_random_dnf(10, 5)\n",
    "print(test_dnf)  # Ausgabe der generierten DNF\n"
   ]
  },
  {
   "cell_type": "code",
   "execution_count": 250,
   "id": "ddd0ca57",
   "metadata": {},
   "outputs": [],
   "source": [
    "# Signum-Funktion (sig), die die Werte eines Vektors auf -1 oder 1 setzt\n",
    "def sig(x):\n",
    "    \"\"\"\n",
    "    Wendet die Signum-Funktion auf jeden Wert eines Vektors an.\n",
    "    \n",
    "    Parameter:\n",
    "    - x: Eingabevektor (numpy-Array)\n",
    "    \n",
    "    Rückgabe:\n",
    "    - Ein numpy-Array mit Werten -1 oder 1.\n",
    "    \"\"\"\n",
    "    ret = np.copy(x)  # Kopiere den Eingabevektor\n",
    "    for i in range(np.shape(x)[0]):  # Iteriere über alle Elemente\n",
    "        if x[i] >= 0:\n",
    "            ret[i] = 1  # Setze positive Werte auf 1\n",
    "        else:\n",
    "            ret[i] = -1  # Setze negative Werte auf -1\n",
    "    return ret.astype(np.int64)  # Rückgabe als Integer-Array"
   ]
  },
  {
   "cell_type": "code",
   "execution_count": 251,
   "id": "898a9812",
   "metadata": {},
   "outputs": [],
   "source": [
    "# Funktion zur Berechnung der Anzahl der verwendeten Literale in einem Monom\n",
    "def get_used_literals(monome):\n",
    "    \"\"\"\n",
    "    Zählt die Anzahl der nicht-null Werte in einem Monom.\n",
    "    \n",
    "    Parameter:\n",
    "    - monome: Ein Array, das ein Monom repräsentiert\n",
    "    \n",
    "    Rückgabe:\n",
    "    - Anzahl der verwendeten Literale (Werte ungleich 0).\n",
    "    \"\"\"\n",
    "    literal_count = 0\n",
    "    for elem in monome:\n",
    "        if elem != 0:\n",
    "            literal_count += 1  # Erhöhe den Zähler für jedes nicht-null Element\n",
    "    return literal_count"
   ]
  },
  {
   "cell_type": "code",
   "execution_count": null,
   "id": "e1309d2f",
   "metadata": {},
   "outputs": [],
   "source": [
    "# Funktion zur Berechnung der Zwischenwerte z\n",
    "def calculate_z(w, x):\n",
    "    \"\"\"\n",
    "    Berechnet die Zwischenwerte z basierend auf den Gewichten w und den Eingaben x.\n",
    "    \n",
    "    Parameter:\n",
    "    - w: Gewichtsmatrix (numpy-Array), die die DNF repräsentiert\n",
    "    - x: Eingabevektor (numpy-Array)\n",
    "    \n",
    "    Rückgabe:\n",
    "    - Ein numpy-Array mit den berechneten z-Werten.\n",
    "    \"\"\"\n",
    "    # Berechnung der v-Werte (Anzahl der Literale - 0.5)\n",
    "    v = np.empty(w.shape[0], dtype=np.float64)  # Initialisiere v\n",
    "    for i in range(w.shape[0]):\n",
    "        v[i] = get_used_literals(w[i]) - 0.5  # Subtrahiere 0.5 von der Anzahl der Literale\n",
    "    print(f\"v list: {v}\")  # Debug-Ausgabe der v-Werte\n",
    "\n",
    "    # Berechnung der z-Werte\n",
    "    z = np.empty(w.shape[0], dtype=np.float64)  # Initialisiere z\n",
    "    for j in range(w.shape[0]):\n",
    "        z[j] = np.dot(w[j], x) - v[j]  # Skalarprodukt minus v[j]\n",
    "    z = sig(z)  # Wende die Signum-Funktion auf z an\n",
    "    print(f\"z list: {z}\")  # Debug-Ausgabe der z-Werte\n",
    "    \n",
    "    return z  # Rückgabe der z-Werte\n",
    "\n",
    "# Test: Berechne z für die generierte DNF und einen Eingabevektor\n",
    "z = calculate_z(test_dnf, np.array([1, -1, 1, -1, 1, -1, 1, 1, 1, 1]).astype(np.int64))"
   ]
  },
  {
   "cell_type": "code",
   "execution_count": 249,
   "id": "aca917a2",
   "metadata": {},
   "outputs": [
    {
     "name": "stdout",
     "output_type": "stream",
     "text": [
      "V: -4\n",
      "y raw: -5\n",
      "y: -1\n",
      "y: -1\n"
     ]
    }
   ],
   "source": [
    "def calculate_y(z):\n",
    "    W = np.ones_like(z, dtype=np.int64)\n",
    "    V = -(z.size - 1)\n",
    "    print(f\"V: {V}\")\t\n",
    "    y = np.matmul(W, z.T)\n",
    "    print(f\"y raw: {y}\")\n",
    "    y = y - V\n",
    "    if y >= 0:\n",
    "        y = 1\n",
    "    else:\n",
    "        y = -1\n",
    "    print(f\"y: {y}\")\n",
    "    return y\n",
    "    \n",
    "print(f\"y: {calculate_y(z)}\")"
   ]
  }
 ],
 "metadata": {
  "kernelspec": {
   "display_name": "Python 3",
   "language": "python",
   "name": "python3"
  },
  "language_info": {
   "codemirror_mode": {
    "name": "ipython",
    "version": 3
   },
   "file_extension": ".py",
   "mimetype": "text/x-python",
   "name": "python",
   "nbconvert_exporter": "python",
   "pygments_lexer": "ipython3",
   "version": "3.13.2"
  }
 },
 "nbformat": 4,
 "nbformat_minor": 5
}
