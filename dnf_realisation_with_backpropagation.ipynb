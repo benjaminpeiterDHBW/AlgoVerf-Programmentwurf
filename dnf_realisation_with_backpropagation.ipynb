{
 "cells": [
  {
   "cell_type": "code",
   "execution_count": 245,
   "id": "c64a5b5b",
   "metadata": {},
   "outputs": [],
   "source": [
    "# Import der benötigten Bibliotheken\n",
    "import numpy as np  # Für numerische Berechnungen und Arrays\n",
    "import random       # Für die zufällige Generierung von Werten"
   ]
  },
  {
   "cell_type": "code",
   "execution_count": 246,
   "id": "64a99393",
   "metadata": {},
   "outputs": [
    {
     "name": "stdout",
     "output_type": "stream",
     "text": [
      "[[ 0  1  1  0  0 -1  0 -1 -1  1]\n",
      " [ 0 -1  0  0  1  1  0  0  0 -1]\n",
      " [-1  0 -1 -1 -1  1 -1  1  1  0]\n",
      " [ 1  1  0 -1  1 -1 -1  1  1  1]\n",
      " [ 1  0 -1  1 -1 -1  0  0 -1 -1]]\n"
     ]
    }
   ],
   "source": [
    "# Funktion zur Erstellung einer zufälligen Disjunktiven Normalform (DNF)\n",
    "def create_random_dnf(n, m):\n",
    "    \"\"\"\n",
    "    Erstellt eine zufällige DNF mit n Variablen und m Monomen.\n",
    "    \n",
    "    Parameter:\n",
    "    - n: Anzahl der Variablen\n",
    "    - m: Anzahl der Monome\n",
    "    \n",
    "    Rückgabe:\n",
    "    - Ein numpy-Array, das die DNF repräsentiert. \n",
    "      Jedes Monom ist ein Array mit Werten -1, 1 oder 0.\n",
    "    \"\"\"\n",
    "    dnf = []  # Liste zur Speicherung der Monome\n",
    "    for i in range(m):\n",
    "        monome = []  # Ein einzelnes Monom\n",
    "        for j in range(n):\n",
    "            # Zufällige Auswahl von -1, 1 oder 0 für jedes Literal\n",
    "            monome.append(random.choice([-1, 1, 0]))\n",
    "        dnf.append(monome)  # Monom zur DNF hinzufügen\n",
    "    return np.array(dnf)  # Rückgabe als numpy-Array\n",
    "\n",
    "# Test: Erstelle eine zufällige DNF mit 10 Variablen und 5 Monomen\n",
    "test_dnf = create_random_dnf(10, 5)\n",
    "print(test_dnf)  # Ausgabe der generierten DNF\n"
   ]
  },
  {
   "cell_type": "code",
   "execution_count": 247,
   "id": "ddd0ca57",
   "metadata": {},
   "outputs": [],
   "source": [
    "# Signum-Funktion (sig), die die Werte eines Vektors auf -1 oder 1 setzt\n",
    "def sig(x):\n",
    "    \"\"\"\n",
    "    Wendet die Signum-Funktion auf jeden Wert eines Vektors an.\n",
    "    \n",
    "    Parameter:\n",
    "    - x: Eingabevektor (numpy-Array)\n",
    "    \n",
    "    Rückgabe:\n",
    "    - Ein numpy-Array mit Werten -1 oder 1.\n",
    "    \"\"\"\n",
    "    ret = np.copy(x)  # Kopiere den Eingabevektor\n",
    "    for i in range(np.shape(x)[0]):  # Iteriere über alle Elemente\n",
    "        if x[i] >= 0:\n",
    "            ret[i] = 1  # Setze positive Werte auf 1\n",
    "        else:\n",
    "            ret[i] = -1  # Setze negative Werte auf -1\n",
    "    return ret.astype(np.int64)  # Rückgabe als Integer-Array"
   ]
  },
  {
   "cell_type": "code",
   "execution_count": 248,
   "id": "898a9812",
   "metadata": {},
   "outputs": [],
   "source": [
    "# Funktion zur Berechnung der Anzahl der verwendeten Literale in einem Monom\n",
    "def get_used_literals(monome):\n",
    "    \"\"\"\n",
    "    Zählt die Anzahl der nicht-null Werte in einem Monom.\n",
    "    \n",
    "    Parameter:\n",
    "    - monome: Ein Array, das ein Monom repräsentiert\n",
    "    \n",
    "    Rückgabe:\n",
    "    - Anzahl der verwendeten Literale (Werte ungleich 0).\n",
    "    \"\"\"\n",
    "    literal_count = 0\n",
    "    for elem in monome:\n",
    "        if elem != 0:\n",
    "            literal_count += 1  # Erhöhe den Zähler für jedes nicht-null Element\n",
    "    return literal_count"
   ]
  },
  {
   "cell_type": "code",
   "execution_count": 249,
   "id": "e1309d2f",
   "metadata": {},
   "outputs": [],
   "source": [
    "# Funktion zur Berechnung der Zwischenwerte z\n",
    "def calculate_z(w, x, v=None):\n",
    "    \"\"\"\n",
    "    Berechnet die Zwischenwerte z basierend auf den Gewichten w und den Eingaben x.\n",
    "    \n",
    "    Parameter:\n",
    "    - w: Gewichtsmatrix (numpy-Array), die die DNF repräsentiert\n",
    "    - x: Eingabevektor (numpy-Array)\n",
    "    \n",
    "    Rückgabe:\n",
    "    - Ein numpy-Array mit den berechneten z-Werten.\n",
    "    \"\"\"\n",
    "    if v == None:\n",
    "        v = np.empty(w.shape[0], dtype=np.float64)  # Initialisiere v\n",
    "        for i in range(w.shape[0]):\n",
    "            v[i] = get_used_literals(w[i]) - 0.5  # Subtrahiere 0.5 von der Anzahl der Literale\n",
    "    \n",
    "\n",
    "    # Berechnung der z-Werte\n",
    "    z = np.empty(w.shape[0], dtype=np.float64)  # Initialisiere z\n",
    "    for j in range(w.shape[0]):\n",
    "        z[j] = np.dot(w[j], x) - v[j]  # Skalarprodukt minus v[j]\n",
    "    z = sig(z)  # Wende die Signum-Funktion auf z an\n",
    "\n",
    "    \n",
    "    return z, w, v  # Rückgabe der z-Werte\n",
    "\n",
    "# Test: Berechne z für die generierte DNF und einen Eingabevektor\n",
    "z, v, w = calculate_z(test_dnf, np.array([1, -1, 1, -1, 1, -1, 1, 1, 1, 1]).astype(np.int64))"
   ]
  },
  {
   "cell_type": "code",
   "execution_count": 250,
   "id": "aca917a2",
   "metadata": {},
   "outputs": [
    {
     "name": "stdout",
     "output_type": "stream",
     "text": [
      "y: (-1, array([1., 1., 1., 1., 1.]), -4)\n"
     ]
    }
   ],
   "source": [
    "def calculate_y(z, **kargs):\n",
    "    W = kargs.get(\"W\", None)  # Standardwert für W\n",
    "    V = kargs.get(\"V\", None)  # Standardwert für V\n",
    "    \n",
    "\n",
    "\n",
    "    if W == None:\n",
    "        W = np.ones_like(z, dtype=np.float64)\n",
    "    \n",
    "    if V == None:\n",
    "        V = -(z.size - 1)\n",
    "\n",
    "    y = np.matmul(W, z.T)\n",
    "    \n",
    "    y = y - V\n",
    "    if y >= 0:\n",
    "        y = 1\n",
    "    else:\n",
    "        y = -1\n",
    "    return y, W, V\n",
    "    \n",
    "print(f\"y: {calculate_y(z)}\")"
   ]
  },
  {
   "cell_type": "code",
   "execution_count": 251,
   "id": "62d77caa",
   "metadata": {},
   "outputs": [],
   "source": [
    "# Trainingsdaten\n",
    "dnf_training = np.array([[-1, -1, -1,  1, -1,  1, -1,  1,  0, -1],\n",
    "                        [-1,  0, -1,  1,  0, -1,  1,  1, -1,  0],\n",
    "                        [ 1, -1,  1,  0, -1, -1, -1,  1,  0,  0],\n",
    "                        [ 0, -1,  1,  0, -1, -1, -1,  1, -1, -1],\n",
    "                        [-1, -1,  0,  1, -1,  1,  1,  0,  0, -1]]).astype(np.int64)\n",
    "\n",
    "\n",
    "inputs_with_p = [\n",
    "    (np.array([-1, -1, -1,  1, -1,  1, -1,  1,  1, -1]), 1),\n",
    "    (np.array([-1,  1, -1,  1,  1, -1,  1,  1, -1,  1]), 1),\n",
    "    (np.array([ 1, -1,  1,  1, -1, -1, -1,  1,  1,  1]), 1),\n",
    "    (np.array([ 1, -1,  1,  1, -1, -1, -1,  1, -1, -1]), 1),\n",
    "    (np.array([-1, -1,  1,  1, -1,  1,  1,  1,  1, -1]), 1)\n",
    "    \n",
    "]\n",
    "\n"
   ]
  },
  {
   "cell_type": "code",
   "execution_count": null,
   "id": "ff23017f",
   "metadata": {},
   "outputs": [],
   "source": [
    "def calculate_Epoch(input_x, p, eta, w=None, v=None, W=None, V=None):\n",
    "\n",
    "    results_z = calculate_z(w, input_x, v)\n",
    "    z, w, v = results_z\n",
    "    y, W, V = calculate_y(z, W=W, V=V)\n",
    "    error = p - y\n",
    "\n",
    "    delta_W = np.copy(W)\n",
    "    delta_V = np.copy(V)\n",
    "    delta_v = np.copy(v)\n",
    "    delta_w = np.copy(w).astype(np.float64)\n",
    "    \n",
    "    for j in range(delta_W.size):\n",
    "        delta_W[j] = eta * error * z[j]\n",
    "        delta_v[j] = -eta * error * W[j]\n",
    "        for k in range(input_x.size):\n",
    "            delta_w[j][k] = eta * W[j] * error * input_x[k]\n",
    "\n",
    "    delta_V = -eta * error\n",
    "\n",
    "    #Print Ausgabe\n",
    "    print(f\"y = {y} | p = {p} | Fehler: {error}\")\n",
    "\n",
    "    return delta_w, delta_v, delta_W, delta_V\n"
   ]
  },
  {
   "cell_type": "code",
   "execution_count": 253,
   "id": "2a0701d7",
   "metadata": {},
   "outputs": [
    {
     "name": "stdout",
     "output_type": "stream",
     "text": [
      "y = 1 | p = 1 | Fehler: 3\n",
      "(array([[-0.3, -0.3, -0.3,  0.3, -0.3,  0.3, -0.3,  0.3,  0.3, -0.3],\n",
      "       [-0.3, -0.3, -0.3,  0.3, -0.3,  0.3, -0.3,  0.3,  0.3, -0.3],\n",
      "       [-0.3, -0.3, -0.3,  0.3, -0.3,  0.3, -0.3,  0.3,  0.3, -0.3],\n",
      "       [-0.3, -0.3, -0.3,  0.3, -0.3,  0.3, -0.3,  0.3,  0.3, -0.3],\n",
      "       [-0.3, -0.3, -0.3,  0.3, -0.3,  0.3, -0.3,  0.3,  0.3, -0.3]]), array([-0.3, -0.3, -0.3, -0.3, -0.3]), array([ 0.3, -0.3, -0.3, -0.3, -0.3]), -0.30000000000000004)\n"
     ]
    }
   ],
   "source": [
    "print(calculate_Epoch(inputs_with_p[0][0], inputs_with_p[0][1], 0.1, w=dnf_training))"
   ]
  },
  {
   "cell_type": "code",
   "execution_count": 254,
   "id": "8ba2f659",
   "metadata": {},
   "outputs": [],
   "source": [
    "# Backpropagation-Funktion\n",
    "\n",
    "def feedforwardBackproagation(w, trainings_data, epoches):\n",
    "    \n",
    "    input_training = trainings_data[0][0]\n",
    "    p = trainings_data[0][1]\n",
    "    eta = 0.1\n",
    "    \n",
    "    \n",
    "    calculate_z(w, )\n",
    "\n",
    "    for i in range(epoches):\n",
    "        # Get random input from trainings Data\n",
    "        trainings_data_cell = trainings_data[random.randint(0, len(inputs_with_p) - 1)]\n",
    "        x_inputs = trainings_data_cell[0]\n",
    "        p = trainings_data_cell[1]\n",
    "        delta_w, delta_v, delta_W, delta_V = calculate_Epoch(x_inputs, p, eta, dnf_training)\n",
    "        "
   ]
  },
  {
   "cell_type": "code",
   "execution_count": 255,
   "id": "df0fd753",
   "metadata": {},
   "outputs": [
    {
     "name": "stdout",
     "output_type": "stream",
     "text": [
      "Testing implementation with initial weights and thresholds:\n"
     ]
    },
    {
     "ename": "ValueError",
     "evalue": "The truth value of an array with more than one element is ambiguous. Use a.any() or a.all()",
     "output_type": "error",
     "traceback": [
      "\u001b[1;31m---------------------------------------------------------------------------\u001b[0m",
      "\u001b[1;31mValueError\u001b[0m                                Traceback (most recent call last)",
      "\u001b[1;32m~\\AppData\\Local\\Temp/ipykernel_23100/2021413125.py\u001b[0m in \u001b[0;36m<module>\u001b[1;34m\u001b[0m\n\u001b[0;32m     63\u001b[0m \u001b[1;31m# Test der Implementierung\u001b[0m\u001b[1;33m\u001b[0m\u001b[1;33m\u001b[0m\u001b[0m\n\u001b[0;32m     64\u001b[0m \u001b[0mprint\u001b[0m\u001b[1;33m(\u001b[0m\u001b[1;34m\"Testing implementation with initial weights and thresholds:\"\u001b[0m\u001b[1;33m)\u001b[0m\u001b[1;33m\u001b[0m\u001b[1;33m\u001b[0m\u001b[0m\n\u001b[1;32m---> 65\u001b[1;33m \u001b[0mtest_implementation\u001b[0m\u001b[1;33m(\u001b[0m\u001b[0mdnf_training\u001b[0m\u001b[1;33m,\u001b[0m \u001b[0minputs_with_p\u001b[0m\u001b[1;33m)\u001b[0m\u001b[1;33m\u001b[0m\u001b[1;33m\u001b[0m\u001b[0m\n\u001b[0m\u001b[0;32m     66\u001b[0m \u001b[1;33m\u001b[0m\u001b[0m\n\u001b[0;32m     67\u001b[0m \u001b[1;31m# Lernsequenz starten\u001b[0m\u001b[1;33m\u001b[0m\u001b[1;33m\u001b[0m\u001b[0m\n",
      "\u001b[1;32m~\\AppData\\Local\\Temp/ipykernel_23100/2021413125.py\u001b[0m in \u001b[0;36mtest_implementation\u001b[1;34m(dnf, inputs_with_p)\u001b[0m\n\u001b[0;32m     38\u001b[0m     \u001b[1;32mfor\u001b[0m \u001b[0minput_x\u001b[0m\u001b[1;33m,\u001b[0m \u001b[0mp\u001b[0m \u001b[1;32min\u001b[0m \u001b[0minputs_with_p\u001b[0m\u001b[1;33m:\u001b[0m\u001b[1;33m\u001b[0m\u001b[1;33m\u001b[0m\u001b[0m\n\u001b[0;32m     39\u001b[0m         \u001b[0mz\u001b[0m\u001b[1;33m,\u001b[0m \u001b[0m_\u001b[0m\u001b[1;33m,\u001b[0m \u001b[0m_\u001b[0m \u001b[1;33m=\u001b[0m \u001b[0mcalculate_z\u001b[0m\u001b[1;33m(\u001b[0m\u001b[0mw\u001b[0m\u001b[1;33m,\u001b[0m \u001b[0minput_x\u001b[0m\u001b[1;33m,\u001b[0m \u001b[0mv\u001b[0m\u001b[1;33m)\u001b[0m\u001b[1;33m\u001b[0m\u001b[1;33m\u001b[0m\u001b[0m\n\u001b[1;32m---> 40\u001b[1;33m         \u001b[0my\u001b[0m\u001b[1;33m,\u001b[0m \u001b[0m_\u001b[0m\u001b[1;33m,\u001b[0m \u001b[0m_\u001b[0m \u001b[1;33m=\u001b[0m \u001b[0mcalculate_y\u001b[0m\u001b[1;33m(\u001b[0m\u001b[0mz\u001b[0m\u001b[1;33m,\u001b[0m \u001b[0mW\u001b[0m\u001b[1;33m=\u001b[0m\u001b[0mW\u001b[0m\u001b[1;33m,\u001b[0m \u001b[0mV\u001b[0m\u001b[1;33m=\u001b[0m\u001b[0mV\u001b[0m\u001b[1;33m)\u001b[0m\u001b[1;33m\u001b[0m\u001b[1;33m\u001b[0m\u001b[0m\n\u001b[0m\u001b[0;32m     41\u001b[0m         \u001b[0mprint\u001b[0m\u001b[1;33m(\u001b[0m\u001b[1;34mf\"Input: {input_x}, Expected: {p}, Output: {y}\"\u001b[0m\u001b[1;33m)\u001b[0m\u001b[1;33m\u001b[0m\u001b[1;33m\u001b[0m\u001b[0m\n\u001b[0;32m     42\u001b[0m \u001b[1;33m\u001b[0m\u001b[0m\n",
      "\u001b[1;32m~\\AppData\\Local\\Temp/ipykernel_23100/1289731457.py\u001b[0m in \u001b[0;36mcalculate_y\u001b[1;34m(z, **kargs)\u001b[0m\n\u001b[0;32m      5\u001b[0m \u001b[1;33m\u001b[0m\u001b[0m\n\u001b[0;32m      6\u001b[0m \u001b[1;33m\u001b[0m\u001b[0m\n\u001b[1;32m----> 7\u001b[1;33m     \u001b[1;32mif\u001b[0m \u001b[0mW\u001b[0m \u001b[1;33m==\u001b[0m \u001b[1;32mNone\u001b[0m\u001b[1;33m:\u001b[0m\u001b[1;33m\u001b[0m\u001b[1;33m\u001b[0m\u001b[0m\n\u001b[0m\u001b[0;32m      8\u001b[0m         \u001b[0mW\u001b[0m \u001b[1;33m=\u001b[0m \u001b[0mnp\u001b[0m\u001b[1;33m.\u001b[0m\u001b[0mones_like\u001b[0m\u001b[1;33m(\u001b[0m\u001b[0mz\u001b[0m\u001b[1;33m,\u001b[0m \u001b[0mdtype\u001b[0m\u001b[1;33m=\u001b[0m\u001b[0mnp\u001b[0m\u001b[1;33m.\u001b[0m\u001b[0mfloat64\u001b[0m\u001b[1;33m)\u001b[0m\u001b[1;33m\u001b[0m\u001b[1;33m\u001b[0m\u001b[0m\n\u001b[0;32m      9\u001b[0m \u001b[1;33m\u001b[0m\u001b[0m\n",
      "\u001b[1;31mValueError\u001b[0m: The truth value of an array with more than one element is ambiguous. Use a.any() or a.all()"
     ]
    }
   ],
   "source": [
    "# Funktion zur Berechnung der Zwischenwerte z\n",
    "def calculate_z(w, x, v=None):\n",
    "    \"\"\"\n",
    "    Berechnet die Zwischenwerte z basierend auf den Gewichten w und den Eingaben x.\n",
    "    \n",
    "    Parameter:\n",
    "    - w: Gewichtsmatrix (numpy-Array), die die DNF repräsentiert\n",
    "    - x: Eingabevektor (numpy-Array)\n",
    "    - v: Schwellwerte (numpy-Array), optional\n",
    "    \n",
    "    Rückgabe:\n",
    "    - Ein numpy-Array mit den berechneten z-Werten.\n",
    "    \"\"\"\n",
    "    if v is None:\n",
    "        v = np.empty(w.shape[0], dtype=np.float64)  # Initialisiere v\n",
    "        for i in range(w.shape[0]):\n",
    "            v[i] = get_used_literals(w[i]) - 0.5  # Subtrahiere 0.5 von der Anzahl der Literale\n",
    "    \n",
    "    # Berechnung der z-Werte\n",
    "    z = np.empty(w.shape[0], dtype=np.float64)  # Initialisiere z\n",
    "    for j in range(w.shape[0]):\n",
    "        z[j] = np.dot(w[j], x) - v[j]  # Skalarprodukt minus v[j]\n",
    "    z = sig(z)  # Wende die Signum-Funktion auf z an\n",
    "    \n",
    "    return z, w, v  # Rückgabe der z-Werte\n",
    "\n",
    "# Funktion zur Initialisierung der Gewichte und Schwellwerte\n",
    "def initialize_weights_and_thresholds(dnf):\n",
    "    w = np.copy(dnf).astype(np.float64)\n",
    "    v = np.array([get_used_literals(m) - 0.5 for m in dnf], dtype=np.float64)\n",
    "    W = np.ones(dnf.shape[0], dtype=np.float64)\n",
    "    V = -(dnf.shape[0] - 1)\n",
    "    return w, v, W, V\n",
    "\n",
    "# Funktion zur Durchführung eines Tests\n",
    "def test_implementation(dnf, inputs_with_p):\n",
    "    w, v, W, V = initialize_weights_and_thresholds(dnf)\n",
    "    for input_x, p in inputs_with_p:\n",
    "        z, _, _ = calculate_z(w, input_x, v)\n",
    "        y, _, _ = calculate_y(z, W=W, V=V)\n",
    "        print(f\"Input: {input_x}, Expected: {p}, Output: {y}\")\n",
    "\n",
    "# Funktion zur Durchführung einer Lernsequenz\n",
    "def learning_sequence(dnf, inputs_with_p, epochs, eta=0.1):\n",
    "    w, v, W, V = initialize_weights_and_thresholds(dnf)\n",
    "    # Leichte Veränderung der Gewichte und Schwellwerte\n",
    "    w += np.random.normal(0, 0.1, w.shape)\n",
    "    v += np.random.normal(0, 0.1, v.shape)\n",
    "    W += np.random.normal(0, 0.1, W.shape)\n",
    "    V += np.random.normal(0, 0.1)\n",
    "    \n",
    "    for epoch in range(epochs):\n",
    "        for input_x, p in inputs_with_p:\n",
    "            delta_w, delta_v, delta_W, delta_V = calculate_Epoch(input_x, p, eta, w, v, W, V)\n",
    "            w += delta_w\n",
    "            v += delta_v\n",
    "            W += delta_W\n",
    "            V += delta_V\n",
    "        print(f\"Epoch {epoch + 1}/{epochs} completed\")\n",
    "\n",
    "    return w, v, W, V\n",
    "\n",
    "# Test der Implementierung\n",
    "print(\"Testing implementation with initial weights and thresholds:\")\n",
    "test_implementation(dnf_training, inputs_with_p)\n",
    "\n",
    "# Lernsequenz starten\n",
    "print(\"\\nStarting learning sequence with slightly modified weights and thresholds:\")\n",
    "w, v, W, V = learning_sequence(dnf_training, inputs_with_p, epochs=10)\n",
    "\n",
    "# Test nach der Lernsequenz\n",
    "print(\"\\nTesting implementation after learning sequence:\")\n",
    "test_implementation(dnf_training, inputs_with_p)\n"
   ]
  }
 ],
 "metadata": {
  "kernelspec": {
   "display_name": "base",
   "language": "python",
   "name": "python3"
  },
  "language_info": {
   "codemirror_mode": {
    "name": "ipython",
    "version": 3
   },
   "file_extension": ".py",
   "mimetype": "text/x-python",
   "name": "python",
   "nbconvert_exporter": "python",
   "pygments_lexer": "ipython3",
   "version": "3.9.7"
  }
 },
 "nbformat": 4,
 "nbformat_minor": 5
}
